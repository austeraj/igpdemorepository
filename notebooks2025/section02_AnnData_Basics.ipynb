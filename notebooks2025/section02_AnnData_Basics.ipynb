{
  "cells": [
    {
      "cell_type": "markdown",
      "metadata": {
        "id": "PUEK-psfD-wq"
      },
      "source": [
        "<a href=\"https://colab.research.google.com/github/Ken-Lau-Lab/single-cell-lectures/blob/main/notebooks2025/section02_AnnData_Basics.ipynb\" target=\"_parent\"><img src=\"https://colab.research.google.com/assets/colab-badge.svg\" alt=\"Open In Colab\"/></a>"
      ]
    },
    {
      "cell_type": "markdown",
      "metadata": {
        "id": "aicGHpboD-wr",
        "tags": []
      },
      "source": [
        "\n",
        "\n",
        "```\n",
        "# This is formatted as code\n",
        "```\n",
        "\n",
        "## __Section 2:__ Introduction to AnnData\n",
        "\n"
      ]
    },
    {
      "cell_type": "code",
      "execution_count": null,
      "metadata": {
        "id": "xZ6mpmntD-wr",
        "tags": []
      },
      "outputs": [],
      "source": [
        "!git clone https://github.com/Ken-Lau-Lab/single-cell-lectures.git"
      ]
    },
    {
      "cell_type": "code",
      "execution_count": null,
      "metadata": {
        "id": "qdCEVpW1D-ws",
        "tags": []
      },
      "outputs": [],
      "source": [
        "!pip install pandas"
      ]
    },
    {
      "cell_type": "code",
      "execution_count": null,
      "metadata": {
        "id": "r2acB-KxD-wt",
        "tags": []
      },
      "outputs": [],
      "source": [
        "!pip install scanpy"
      ]
    },
    {
      "cell_type": "code",
      "execution_count": null,
      "metadata": {
        "id": "wEp3npq7D-wt"
      },
      "outputs": [],
      "source": [
        "#Import statements\n",
        "import pandas as pd #import pandas and assign the variable 'pd' to access it\n",
        "import numpy as np #import numpy and assign the variable 'np' to access it\n",
        "import scanpy as sc #import scanpy and assign the variable 'sc' to access it"
      ]
    },
    {
      "cell_type": "code",
      "execution_count": null,
      "metadata": {
        "id": "5b4lxdI6D-wt"
      },
      "outputs": [],
      "source": [
        "data = sc.read_h5ad(\"single-cell-lectures/data/Example_Data.h5ad\") #use the scanpy function 'read_h5ad' to read the .h5ad file as denoted in the quotes, then assign it to the variable \"data\""
      ]
    },
    {
      "cell_type": "code",
      "execution_count": null,
      "metadata": {
        "id": "fuQ9l95DD-wu"
      },
      "outputs": [],
      "source": [
        "type(data) #ask python what type/class this object is"
      ]
    },
    {
      "cell_type": "code",
      "execution_count": null,
      "metadata": {
        "id": "l3340WuKD-wu"
      },
      "outputs": [],
      "source": [
        "data #return some general information about this AnnData object"
      ]
    },
    {
      "cell_type": "code",
      "execution_count": null,
      "metadata": {
        "id": "snNS7WxgD-wv",
        "tags": []
      },
      "outputs": [],
      "source": [
        "data.obs #access the 'obs' or observations attribute of the anndata object named 'data', this returns the identifiers for each single-cell barcode (only 20 cells here)"
      ]
    },
    {
      "cell_type": "code",
      "execution_count": null,
      "metadata": {
        "id": "zj7sd6TTD-wv"
      },
      "outputs": [],
      "source": [
        "data.var  #access the 'var' or variables attribute of the anndata object named 'data', this returns the genes or features of each transcriptome (only 20 genes here)"
      ]
    },
    {
      "cell_type": "code",
      "execution_count": null,
      "metadata": {
        "id": "BDY9B6V5D-ww"
      },
      "outputs": [],
      "source": [
        "data.obs[:5] #access just the first 5 'obs' or observations attribute of the anndata object named 'data'"
      ]
    },
    {
      "cell_type": "code",
      "execution_count": null,
      "metadata": {
        "id": "GXeoclGlD-ww"
      },
      "outputs": [],
      "source": [
        "data.obs[4:6] #access just the 4th through 6th 'obs' or observations attribute of the anndata object named 'data', in this case, the first limit of the range is non-inclusive"
      ]
    },
    {
      "cell_type": "code",
      "execution_count": null,
      "metadata": {
        "id": "7nojWSU9D-ww"
      },
      "outputs": [],
      "source": [
        "data.var[:5] #access just the first 5 'var' or variable attribute of the anndata object named 'data', since obs and var are both pandas dataframes, they can be subset in the same way"
      ]
    },
    {
      "cell_type": "code",
      "execution_count": null,
      "metadata": {
        "id": "7DCBd0W5D-wx"
      },
      "outputs": [],
      "source": [
        "data[:5] #similar to subsetting pandas dataframes, AnnData objects can be subset as well, to produce temporary 'views' representing subsets of the data, here we pick the first 5 barcodes and their associated counts"
      ]
    },
    {
      "cell_type": "code",
      "execution_count": null,
      "metadata": {
        "id": "cvvHVGRRD-wx"
      },
      "outputs": [],
      "source": [
        "data[4:6] #like retrieving the 4th through the 6th 'obs', we can do the same operation on the AnnData object itself, and its attributes are subset respectively"
      ]
    },
    {
      "cell_type": "code",
      "execution_count": null,
      "metadata": {
        "id": "UGqWBnvbD-wx"
      },
      "outputs": [],
      "source": [
        "data[4:6].obs #this is equivalent to data.obs[4:6]"
      ]
    },
    {
      "cell_type": "code",
      "execution_count": null,
      "metadata": {
        "id": "6613z2GiD-wy"
      },
      "outputs": [],
      "source": [
        "data.var_vector(\"BC1\") #to retrieve all numerical values associated with barcode 1, use the .var_vector method, which returns a 20-length array representing count values of all genes associated with the barcode 'BC1'"
      ]
    },
    {
      "cell_type": "code",
      "execution_count": null,
      "metadata": {
        "id": "RuBGFAjsD-wy"
      },
      "outputs": [],
      "source": [
        "data.obs_vector(\"GENE5\") #to retrieve all numerical values associated with gene 5, use the .obs_vector method, which returns a 20-length array representing count values of all cells associated with the gene 'GENE5'"
      ]
    },
    {
      "cell_type": "code",
      "execution_count": null,
      "metadata": {
        "id": "CNIWM5ZGD-wy"
      },
      "outputs": [],
      "source": [
        "data"
      ]
    }
  ],
  "metadata": {
    "colab": {
      "provenance": []
    },
    "kernelspec": {
      "display_name": "Python 3 (ipykernel)",
      "language": "python",
      "name": "python3"
    },
    "language_info": {
      "codemirror_mode": {
        "name": "ipython",
        "version": 3
      },
      "file_extension": ".py",
      "mimetype": "text/x-python",
      "name": "python",
      "nbconvert_exporter": "python",
      "pygments_lexer": "ipython3",
      "version": "3.9.19"
    }
  },
  "nbformat": 4,
  "nbformat_minor": 0
}